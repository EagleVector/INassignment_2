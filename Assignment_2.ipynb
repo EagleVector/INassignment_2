{
 "cells": [
  {
   "cell_type": "markdown",
   "id": "af3aa3af",
   "metadata": {},
   "source": [
    "Q1.What are the two values of the Boolean data type? How do you write them?\n",
    "Ans. Boolean data types are:\n",
    "1. True\n",
    "2. False\n",
    "If the expression is correct it returns True otherwise it returns False"
   ]
  },
  {
   "cell_type": "code",
   "execution_count": 1,
   "id": "c9512fa3",
   "metadata": {},
   "outputs": [
    {
     "data": {
      "text/plain": [
       "True"
      ]
     },
     "execution_count": 1,
     "metadata": {},
     "output_type": "execute_result"
    }
   ],
   "source": [
    "3 == 3"
   ]
  },
  {
   "cell_type": "code",
   "execution_count": 2,
   "id": "26641057",
   "metadata": {},
   "outputs": [
    {
     "data": {
      "text/plain": [
       "False"
      ]
     },
     "execution_count": 2,
     "metadata": {},
     "output_type": "execute_result"
    }
   ],
   "source": [
    "7 > 9"
   ]
  },
  {
   "cell_type": "raw",
   "id": "aa345a63",
   "metadata": {},
   "source": [
    "Q2. What are the three different types of Boolean operators?\n",
    "Ans. 1. And\n",
    "2. Or\n",
    "3. Not"
   ]
  },
  {
   "cell_type": "markdown",
   "id": "8a390511",
   "metadata": {},
   "source": [
    "Q3. Make a list of each Boolean operator's truth tables (i.e. every possible combination of Boolean\n",
    "values for the operator and what it evaluate ).\n",
    "Ans. \n",
    "and truth table:\n",
    "True and True = True\n",
    "True and False = False\n",
    "False and True = False\n",
    "False and False = False\n",
    "or truth table:\n",
    "True or True = True\n",
    "True or False = True\n",
    "False or True = True\n",
    "False or False = False\n",
    "not truth table:\n",
    "not True = False\n",
    "not False = True"
   ]
  },
  {
   "cell_type": "markdown",
   "id": "b2c3ccb1",
   "metadata": {},
   "source": [
    "Q4. What are the values of the following expressions?\n",
    "(5 > 4) and (3 == 5) : False\n",
    "not (5 > 4) : False\n",
    "(5 > 4) or (3 == 5) : True\n",
    "not ((5 > 4) or (3 == 5)) : False\n",
    "(True and True) and (True == False) : False\n",
    "(not False) or (not True) : True"
   ]
  },
  {
   "cell_type": "raw",
   "id": "28b685ee",
   "metadata": {},
   "source": [
    "5. What are the six comparison operators?\n",
    "Ans.\n",
    "1. ==\n",
    "2. !=\n",
    "3. >\n",
    "4. <\n",
    "5. >=\n",
    "6. <="
   ]
  },
  {
   "cell_type": "raw",
   "id": "d9296124",
   "metadata": {},
   "source": [
    "6. How do you tell the difference between the equal to and assignment operators?Describe a\n",
    "condition and when you would use one.\n",
    "Ans.\n",
    "Equal to operator will return a boolean output when used. It is a comparison operator.It checks whether the both sides of an expression are equal or not. Symbol = '=='\n",
    "Assignment operator assigns a value to a variable and stores it in the memory"
   ]
  },
  {
   "cell_type": "code",
   "execution_count": 3,
   "id": "4a839ba0",
   "metadata": {},
   "outputs": [
    {
     "name": "stdout",
     "output_type": "stream",
     "text": [
      "False\n"
     ]
    }
   ],
   "source": [
    "a = 5\n",
    "b = 6\n",
    "print(a == b)"
   ]
  },
  {
   "cell_type": "code",
   "execution_count": 7,
   "id": "f98f7e40",
   "metadata": {},
   "outputs": [
    {
     "name": "stdout",
     "output_type": "stream",
     "text": [
      "ham\n",
      "spam\n",
      "spam\n"
     ]
    }
   ],
   "source": [
    "#Q7. Identify the three blocks in this code:\n",
    "#Ans. There is an indentation error in this code\n",
    "spam = 0\n",
    "if spam == 10:\n",
    "    print('eggs')\n",
    "if spam > 5:\n",
    "    print('bacon')\n",
    "else:\n",
    "    print('ham')\n",
    "    print('spam')\n",
    "    print('spam')"
   ]
  },
  {
   "cell_type": "code",
   "execution_count": 11,
   "id": "ba8c104f",
   "metadata": {},
   "outputs": [
    {
     "name": "stdout",
     "output_type": "stream",
     "text": [
      "Enter the value you wish to store inside spam: 7\n",
      "Greetings!\n"
     ]
    }
   ],
   "source": [
    "#Q8. Write code that prints Hello if 1 is stored in spam, prints Howdy if 2 is stored in spam, and prints\n",
    "#Greetings! if anything else is stored in spam.\n",
    "\n",
    "spam = int(input(\"Enter the value you wish to store inside spam: \"))\n",
    "if(spam == 1):\n",
    "    print(\"Hello\")\n",
    "elif(spam == 2):\n",
    "    print(\"Howdy\")\n",
    "else:\n",
    "    print(\"Greetings!\")"
   ]
  },
  {
   "cell_type": "raw",
   "id": "17bcb8bb",
   "metadata": {},
   "source": [
    "Q9.If your programme is stuck in an endless loop, what keys you’ll press?\n",
    "Ans: Will first interrupt the kernel and then restart the kernel."
   ]
  },
  {
   "cell_type": "raw",
   "id": "0fbc181b",
   "metadata": {},
   "source": [
    "10. How can you tell the difference between break and continue?\n",
    "Ans. Break statement in python is used to make the program jump out of the loop once the condition inside the loop satisfy. Whereas continue statement makes the program run again everytime the condition inside the loop satisfies."
   ]
  },
  {
   "cell_type": "code",
   "execution_count": 31,
   "id": "37715375",
   "metadata": {},
   "outputs": [],
   "source": [
    "def break_example(n):\n",
    "    for i in range(n):\n",
    "        if i % 2 == 0:\n",
    "            print(i)\n",
    "            break\n",
    "    print(\"Done\")"
   ]
  },
  {
   "cell_type": "code",
   "execution_count": 32,
   "id": "13362595",
   "metadata": {},
   "outputs": [
    {
     "name": "stdout",
     "output_type": "stream",
     "text": [
      "0\n",
      "Done\n"
     ]
    }
   ],
   "source": [
    "break_example(6)"
   ]
  },
  {
   "cell_type": "code",
   "execution_count": 33,
   "id": "864e6487",
   "metadata": {},
   "outputs": [],
   "source": [
    "def cont_example(n):\n",
    "    for i in range(n):\n",
    "        if i % 2 == 0:\n",
    "            print(i)\n",
    "            continue\n",
    "    print(\"Done\")"
   ]
  },
  {
   "cell_type": "code",
   "execution_count": 34,
   "id": "d63626c5",
   "metadata": {},
   "outputs": [
    {
     "name": "stdout",
     "output_type": "stream",
     "text": [
      "0\n",
      "2\n",
      "4\n",
      "Done\n"
     ]
    }
   ],
   "source": [
    "cont_example(6)"
   ]
  },
  {
   "cell_type": "raw",
   "id": "93b7ec58",
   "metadata": {},
   "source": [
    "Q11. In a for loop, what is the difference between range(10), range(0, 10), and range(0, 10, 1)?\n",
    "Ans. All the three range are the same here. In range(0,10,1), 0 is the start point(inclusive) , 10 is the end point(exclusive) and 1 is the jump."
   ]
  },
  {
   "cell_type": "code",
   "execution_count": 1,
   "id": "43ab1713",
   "metadata": {},
   "outputs": [
    {
     "name": "stdout",
     "output_type": "stream",
     "text": [
      "1\n",
      "2\n",
      "3\n",
      "4\n",
      "5\n",
      "6\n",
      "7\n",
      "8\n",
      "9\n",
      "10\n"
     ]
    }
   ],
   "source": [
    "#Q12. Write a short program that prints the numbers 1 to 10 using a for loop. Then write an equivalent\n",
    "#program that prints the numbers 1 to 10 using a while loop.\n",
    "\n",
    "for i in range(1,11):\n",
    "    print(i)\n",
    "    "
   ]
  },
  {
   "cell_type": "code",
   "execution_count": 1,
   "id": "4e1c9a47",
   "metadata": {},
   "outputs": [
    {
     "name": "stdout",
     "output_type": "stream",
     "text": [
      "1\n",
      "2\n",
      "3\n",
      "4\n",
      "5\n",
      "6\n",
      "7\n",
      "8\n",
      "9\n",
      "10\n"
     ]
    }
   ],
   "source": [
    "j=1\n",
    "while j<=10:\n",
    "    print(j)\n",
    "    j+=1"
   ]
  },
  {
   "cell_type": "markdown",
   "id": "3920c05b",
   "metadata": {},
   "source": [
    "Q13. If you had a function named bacon() inside a module named spam, how would you call it after\n",
    "importing spam?\n",
    "Ans. We can do it by either writing\n",
    "import spam.bacon \n",
    "or\n",
    "from spam import bacon"
   ]
  },
  {
   "cell_type": "code",
   "execution_count": null,
   "id": "69a633f0",
   "metadata": {},
   "outputs": [],
   "source": []
  }
 ],
 "metadata": {
  "kernelspec": {
   "display_name": "Python 3 (ipykernel)",
   "language": "python",
   "name": "python3"
  },
  "language_info": {
   "codemirror_mode": {
    "name": "ipython",
    "version": 3
   },
   "file_extension": ".py",
   "mimetype": "text/x-python",
   "name": "python",
   "nbconvert_exporter": "python",
   "pygments_lexer": "ipython3",
   "version": "3.9.7"
  }
 },
 "nbformat": 4,
 "nbformat_minor": 5
}
